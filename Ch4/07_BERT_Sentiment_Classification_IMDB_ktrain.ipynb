{
 "cells": [
  {
   "cell_type": "markdown",
   "metadata": {
    "colab_type": "text",
    "id": "ypR4NNY7oyEV"
   },
   "source": [
    "#### We need to install the ktrain library. Its a light weight wrapper for keras to help train neural networks. With only a few lines of code it allows you to build models, estimate optimal learning rate, loading and preprocessing text and image data from various sources and much more. More about our approach can be found at [this](https://towardsdatascience.com/bert-text-classification-in-3-lines-of-code-using-keras-264db7e7a358) article."
   ]
  },
  {
   "cell_type": "code",
   "execution_count": 1,
   "metadata": {
    "colab": {
     "base_uri": "https://localhost:8080/",
     "height": 1000
    },
    "colab_type": "code",
    "id": "58WB13Jx3rQm",
    "outputId": "847a6286-f36b-4b32-a791-5ab6d625c701"
   },
   "outputs": [
    {
     "name": "stdout",
     "output_type": "stream",
     "text": [
      "Requirement already satisfied: ktrain==0.26.3 in c:\\users\\kumar apurv\\anaconda3\\envs\\ml\\lib\\site-packages (0.26.3)\n",
      "Requirement already satisfied: ipython in c:\\users\\kumar apurv\\anaconda3\\envs\\ml\\lib\\site-packages (from ktrain==0.26.3) (7.16.1)\n",
      "Requirement already satisfied: keras-bert>=0.86.0 in c:\\users\\kumar apurv\\anaconda3\\envs\\ml\\lib\\site-packages (from ktrain==0.26.3) (0.86.0)\n",
      "Requirement already satisfied: joblib in c:\\users\\kumar apurv\\anaconda3\\envs\\ml\\lib\\site-packages (from ktrain==0.26.3) (1.0.1)\n",
      "Requirement already satisfied: requests in c:\\users\\kumar apurv\\anaconda3\\envs\\ml\\lib\\site-packages (from ktrain==0.26.3) (2.25.1)\n",
      "Collecting seqeval==0.0.19\n",
      "  Using cached seqeval-0.0.19-py3-none-any.whl\n",
      "Requirement already satisfied: cchardet in c:\\users\\kumar apurv\\anaconda3\\envs\\ml\\lib\\site-packages (from ktrain==0.26.3) (2.1.7)\n",
      "Requirement already satisfied: pandas>=1.0.1 in c:\\users\\kumar apurv\\anaconda3\\envs\\ml\\lib\\site-packages (from ktrain==0.26.3) (1.1.5)\n",
      "Requirement already satisfied: jieba in c:\\users\\kumar apurv\\anaconda3\\envs\\ml\\lib\\site-packages (from ktrain==0.26.3) (0.42.1)\n",
      "Requirement already satisfied: sentencepiece in c:\\users\\kumar apurv\\anaconda3\\envs\\ml\\lib\\site-packages (from ktrain==0.26.3) (0.1.95)\n",
      "Requirement already satisfied: langdetect in c:\\users\\kumar apurv\\anaconda3\\envs\\ml\\lib\\site-packages (from ktrain==0.26.3) (1.0.9)\n",
      "Requirement already satisfied: packaging in c:\\users\\kumar apurv\\anaconda3\\envs\\ml\\lib\\site-packages (from ktrain==0.26.3) (20.9)\n",
      "Requirement already satisfied: networkx>=2.3 in c:\\users\\kumar apurv\\anaconda3\\envs\\ml\\lib\\site-packages (from ktrain==0.26.3) (2.5.1)\n",
      "Requirement already satisfied: syntok in c:\\users\\kumar apurv\\anaconda3\\envs\\ml\\lib\\site-packages (from ktrain==0.26.3) (1.3.1)\n",
      "Requirement already satisfied: scikit-learn==0.23.2 in c:\\users\\kumar apurv\\anaconda3\\envs\\ml\\lib\\site-packages (from ktrain==0.26.3) (0.23.2)\n",
      "Requirement already satisfied: matplotlib>=3.0.0 in c:\\users\\kumar apurv\\anaconda3\\envs\\ml\\lib\\site-packages (from ktrain==0.26.3) (3.3.4)\n",
      "Requirement already satisfied: transformers<=4.3.3,>=4.0.0 in c:\\users\\kumar apurv\\anaconda3\\envs\\ml\\lib\\site-packages (from ktrain==0.26.3) (4.3.3)\n",
      "Requirement already satisfied: fastprogress>=0.1.21 in c:\\users\\kumar apurv\\anaconda3\\envs\\ml\\lib\\site-packages (from ktrain==0.26.3) (1.0.0)\n",
      "Requirement already satisfied: whoosh in c:\\users\\kumar apurv\\anaconda3\\envs\\ml\\lib\\site-packages (from ktrain==0.26.3) (2.7.4)\n",
      "Requirement already satisfied: numpy>=1.13.3 in c:\\users\\kumar apurv\\anaconda3\\envs\\ml\\lib\\site-packages (from scikit-learn==0.23.2->ktrain==0.26.3) (1.19.5)\n",
      "Requirement already satisfied: scipy>=0.19.1 in c:\\users\\kumar apurv\\anaconda3\\envs\\ml\\lib\\site-packages (from scikit-learn==0.23.2->ktrain==0.26.3) (1.4.1)\n",
      "Requirement already satisfied: threadpoolctl>=2.0.0 in c:\\users\\kumar apurv\\anaconda3\\envs\\ml\\lib\\site-packages (from scikit-learn==0.23.2->ktrain==0.26.3) (2.1.0)\n",
      "Requirement already satisfied: Keras>=2.2.4 in c:\\users\\kumar apurv\\anaconda3\\envs\\ml\\lib\\site-packages (from seqeval==0.0.19->ktrain==0.26.3) (2.4.3)\n",
      "Requirement already satisfied: pyyaml in c:\\users\\kumar apurv\\anaconda3\\envs\\ml\\lib\\site-packages (from Keras>=2.2.4->seqeval==0.0.19->ktrain==0.26.3) (5.4.1)\n",
      "Requirement already satisfied: h5py in c:\\users\\kumar apurv\\anaconda3\\envs\\ml\\lib\\site-packages (from Keras>=2.2.4->seqeval==0.0.19->ktrain==0.26.3) (2.10.0)\n",
      "Requirement already satisfied: keras-transformer>=0.38.0 in c:\\users\\kumar apurv\\anaconda3\\envs\\ml\\lib\\site-packages (from keras-bert>=0.86.0->ktrain==0.26.3) (0.38.0)\n",
      "Requirement already satisfied: keras-pos-embd>=0.11.0 in c:\\users\\kumar apurv\\anaconda3\\envs\\ml\\lib\\site-packages (from keras-transformer>=0.38.0->keras-bert>=0.86.0->ktrain==0.26.3) (0.11.0)\n",
      "Requirement already satisfied: keras-layer-normalization>=0.14.0 in c:\\users\\kumar apurv\\anaconda3\\envs\\ml\\lib\\site-packages (from keras-transformer>=0.38.0->keras-bert>=0.86.0->ktrain==0.26.3) (0.14.0)\n",
      "Requirement already satisfied: keras-position-wise-feed-forward>=0.6.0 in c:\\users\\kumar apurv\\anaconda3\\envs\\ml\\lib\\site-packages (from keras-transformer>=0.38.0->keras-bert>=0.86.0->ktrain==0.26.3) (0.6.0)\n",
      "Requirement already satisfied: keras-embed-sim>=0.8.0 in c:\\users\\kumar apurv\\anaconda3\\envs\\ml\\lib\\site-packages (from keras-transformer>=0.38.0->keras-bert>=0.86.0->ktrain==0.26.3) (0.8.0)\n",
      "Requirement already satisfied: keras-multi-head>=0.27.0 in c:\\users\\kumar apurv\\anaconda3\\envs\\ml\\lib\\site-packages (from keras-transformer>=0.38.0->keras-bert>=0.86.0->ktrain==0.26.3) (0.27.0)\n",
      "Requirement already satisfied: keras-self-attention==0.46.0 in c:\\users\\kumar apurv\\anaconda3\\envs\\ml\\lib\\site-packages (from keras-multi-head>=0.27.0->keras-transformer>=0.38.0->keras-bert>=0.86.0->ktrain==0.26.3) (0.46.0)\n",
      "Requirement already satisfied: pyparsing!=2.0.4,!=2.1.2,!=2.1.6,>=2.0.3 in c:\\users\\kumar apurv\\anaconda3\\envs\\ml\\lib\\site-packages (from matplotlib>=3.0.0->ktrain==0.26.3) (2.4.7)\n",
      "Requirement already satisfied: kiwisolver>=1.0.1 in c:\\users\\kumar apurv\\anaconda3\\envs\\ml\\lib\\site-packages (from matplotlib>=3.0.0->ktrain==0.26.3) (1.3.1)\n",
      "Requirement already satisfied: python-dateutil>=2.1 in c:\\users\\kumar apurv\\anaconda3\\envs\\ml\\lib\\site-packages (from matplotlib>=3.0.0->ktrain==0.26.3) (2.8.1)\n",
      "Requirement already satisfied: cycler>=0.10 in c:\\users\\kumar apurv\\anaconda3\\envs\\ml\\lib\\site-packages (from matplotlib>=3.0.0->ktrain==0.26.3) (0.10.0)\n",
      "Requirement already satisfied: pillow>=6.2.0 in c:\\users\\kumar apurv\\anaconda3\\envs\\ml\\lib\\site-packages (from matplotlib>=3.0.0->ktrain==0.26.3) (8.2.0)\n",
      "Requirement already satisfied: six in c:\\users\\kumar apurv\\anaconda3\\envs\\ml\\lib\\site-packages (from cycler>=0.10->matplotlib>=3.0.0->ktrain==0.26.3) (1.15.0)\n",
      "Requirement already satisfied: decorator<5,>=4.3 in c:\\users\\kumar apurv\\anaconda3\\envs\\ml\\lib\\site-packages (from networkx>=2.3->ktrain==0.26.3) (4.4.2)\n",
      "Requirement already satisfied: pytz>=2017.2 in c:\\users\\kumar apurv\\anaconda3\\envs\\ml\\lib\\site-packages (from pandas>=1.0.1->ktrain==0.26.3) (2021.1)\n",
      "Requirement already satisfied: dataclasses in c:\\users\\kumar apurv\\anaconda3\\envs\\ml\\lib\\site-packages (from transformers<=4.3.3,>=4.0.0->ktrain==0.26.3) (0.8)\n",
      "Requirement already satisfied: importlib-metadata in c:\\users\\kumar apurv\\anaconda3\\envs\\ml\\lib\\site-packages (from transformers<=4.3.3,>=4.0.0->ktrain==0.26.3) (4.4.0)\n",
      "Requirement already satisfied: tokenizers<0.11,>=0.10.1 in c:\\users\\kumar apurv\\anaconda3\\envs\\ml\\lib\\site-packages (from transformers<=4.3.3,>=4.0.0->ktrain==0.26.3) (0.10.3)\n",
      "Requirement already satisfied: regex!=2019.12.17 in c:\\users\\kumar apurv\\anaconda3\\envs\\ml\\lib\\site-packages (from transformers<=4.3.3,>=4.0.0->ktrain==0.26.3) (2021.4.4)\n",
      "Requirement already satisfied: tqdm>=4.27 in c:\\users\\kumar apurv\\anaconda3\\envs\\ml\\lib\\site-packages (from transformers<=4.3.3,>=4.0.0->ktrain==0.26.3) (4.61.0)\n",
      "Requirement already satisfied: filelock in c:\\users\\kumar apurv\\anaconda3\\envs\\ml\\lib\\site-packages (from transformers<=4.3.3,>=4.0.0->ktrain==0.26.3) (3.0.12)\n",
      "Requirement already satisfied: sacremoses in c:\\users\\kumar apurv\\anaconda3\\envs\\ml\\lib\\site-packages (from transformers<=4.3.3,>=4.0.0->ktrain==0.26.3) (0.0.45)\n",
      "Requirement already satisfied: zipp>=0.5 in c:\\users\\kumar apurv\\anaconda3\\envs\\ml\\lib\\site-packages (from importlib-metadata->transformers<=4.3.3,>=4.0.0->ktrain==0.26.3) (3.4.1)\n",
      "Requirement already satisfied: typing-extensions>=3.6.4 in c:\\users\\kumar apurv\\anaconda3\\envs\\ml\\lib\\site-packages (from importlib-metadata->transformers<=4.3.3,>=4.0.0->ktrain==0.26.3) (3.7.4.3)\n",
      "Requirement already satisfied: pygments in c:\\users\\kumar apurv\\anaconda3\\envs\\ml\\lib\\site-packages (from ipython->ktrain==0.26.3) (2.9.0)\n",
      "Requirement already satisfied: setuptools>=18.5 in c:\\users\\kumar apurv\\anaconda3\\envs\\ml\\lib\\site-packages (from ipython->ktrain==0.26.3) (52.0.0.post20210125)\n",
      "Requirement already satisfied: traitlets>=4.2 in c:\\users\\kumar apurv\\anaconda3\\envs\\ml\\lib\\site-packages (from ipython->ktrain==0.26.3) (4.3.3)\n",
      "Requirement already satisfied: jedi>=0.10 in c:\\users\\kumar apurv\\anaconda3\\envs\\ml\\lib\\site-packages (from ipython->ktrain==0.26.3) (0.17.0)\n",
      "Requirement already satisfied: pickleshare in c:\\users\\kumar apurv\\anaconda3\\envs\\ml\\lib\\site-packages (from ipython->ktrain==0.26.3) (0.7.5)"
     ]
    },
    {
     "name": "stderr",
     "output_type": "stream",
     "text": [
      "WARNING: Ignoring invalid distribution -pype1 (c:\\users\\kumar apurv\\anaconda3\\envs\\ml\\lib\\site-packages)\n",
      "WARNING: Ignoring invalid distribution -pype1 (c:\\users\\kumar apurv\\anaconda3\\envs\\ml\\lib\\site-packages)\n",
      "WARNING: Ignoring invalid distribution -pype1 (c:\\users\\kumar apurv\\anaconda3\\envs\\ml\\lib\\site-packages)\n",
      "    WARNING: Ignoring invalid distribution -pype1 (c:\\users\\kumar apurv\\anaconda3\\envs\\ml\\lib\\site-packages)\n",
      "WARNING: Ignoring invalid distribution -pype1 (c:\\users\\kumar apurv\\anaconda3\\envs\\ml\\lib\\site-packages)\n",
      "WARNING: Ignoring invalid distribution -pype1 (c:\\users\\kumar apurv\\anaconda3\\envs\\ml\\lib\\site-packages)\n",
      "WARNING: Ignoring invalid distribution -pype1 (c:\\users\\kumar apurv\\anaconda3\\envs\\ml\\lib\\site-packages)\n",
      "WARNING: Ignoring invalid distribution -pype1 (c:\\users\\kumar apurv\\anaconda3\\envs\\ml\\lib\\site-packages)\n"
     ]
    },
    {
     "name": "stdout",
     "output_type": "stream",
     "text": [
      "\n",
      "Requirement already satisfied: colorama in c:\\users\\kumar apurv\\anaconda3\\envs\\ml\\lib\\site-packages (from ipython->ktrain==0.26.3) (0.4.4)\n",
      "Requirement already satisfied: backcall in c:\\users\\kumar apurv\\anaconda3\\envs\\ml\\lib\\site-packages (from ipython->ktrain==0.26.3) (0.2.0)\n",
      "Requirement already satisfied: prompt-toolkit!=3.0.0,!=3.0.1,<3.1.0,>=2.0.0 in c:\\users\\kumar apurv\\anaconda3\\envs\\ml\\lib\\site-packages (from ipython->ktrain==0.26.3) (3.0.17)\n",
      "Requirement already satisfied: parso>=0.7.0 in c:\\users\\kumar apurv\\anaconda3\\envs\\ml\\lib\\site-packages (from jedi>=0.10->ipython->ktrain==0.26.3) (0.8.2)\n",
      "Requirement already satisfied: wcwidth in c:\\users\\kumar apurv\\anaconda3\\envs\\ml\\lib\\site-packages (from prompt-toolkit!=3.0.0,!=3.0.1,<3.1.0,>=2.0.0->ipython->ktrain==0.26.3) (0.2.5)\n",
      "Requirement already satisfied: ipython-genutils in c:\\users\\kumar apurv\\anaconda3\\envs\\ml\\lib\\site-packages (from traitlets>=4.2->ipython->ktrain==0.26.3) (0.2.0)\n",
      "Requirement already satisfied: idna<3,>=2.5 in c:\\users\\kumar apurv\\anaconda3\\envs\\ml\\lib\\site-packages (from requests->ktrain==0.26.3) (2.10)\n",
      "Requirement already satisfied: certifi>=2017.4.17 in c:\\users\\kumar apurv\\anaconda3\\envs\\ml\\lib\\site-packages (from requests->ktrain==0.26.3) (2020.12.5)\n",
      "Requirement already satisfied: urllib3<1.27,>=1.21.1 in c:\\users\\kumar apurv\\anaconda3\\envs\\ml\\lib\\site-packages (from requests->ktrain==0.26.3) (1.26.5)\n",
      "Requirement already satisfied: chardet<5,>=3.0.2 in c:\\users\\kumar apurv\\anaconda3\\envs\\ml\\lib\\site-packages (from requests->ktrain==0.26.3) (4.0.0)\n",
      "Requirement already satisfied: click in c:\\users\\kumar apurv\\anaconda3\\envs\\ml\\lib\\site-packages (from sacremoses->transformers<=4.3.3,>=4.0.0->ktrain==0.26.3) (7.1.2)\n",
      "Installing collected packages: seqeval\n",
      "  Attempting uninstall: seqeval\n",
      "    Found existing installation: seqeval 0.0.12\n",
      "    Uninstalling seqeval-0.0.12:\n",
      "      Successfully uninstalled seqeval-0.0.12\n",
      "Successfully installed seqeval-0.0.19\n"
     ]
    }
   ],
   "source": [
    "!pip3 install ktrain==0.26.3\n",
    "# use tensorflow 2.4.0"
   ]
  },
  {
   "cell_type": "code",
   "execution_count": 2,
   "metadata": {
    "colab": {
     "base_uri": "https://localhost:8080/",
     "height": 82
    },
    "colab_type": "code",
    "id": "KN6N85ah8VXf",
    "outputId": "6e97b40b-ea0d-4eb1-9562-8862c525c0f3"
   },
   "outputs": [],
   "source": [
    "#Importing\n",
    "import ktrain\n",
    "from ktrain import text"
   ]
  },
  {
   "cell_type": "code",
   "execution_count": 3,
   "metadata": {
    "colab": {
     "base_uri": "https://localhost:8080/",
     "height": 52
    },
    "colab_type": "code",
    "id": "Mr1YXudk8Vti",
    "outputId": "8b08004e-329e-4eb8-a21e-e4dae409fc3e"
   },
   "outputs": [
    {
     "name": "stdout",
     "output_type": "stream",
     "text": [
      "Downloading data from http://ai.stanford.edu/~amaas/data/sentiment/aclImdb_v1.tar.gz\n",
      "84131840/84125825 [==============================] - 4s 0us/step\n"
     ]
    }
   ],
   "source": [
    "##obtain the dataset\n",
    "import os\n",
    "try :\n",
    "    from google.colab import files\n",
    "    import tensorflow as tf\n",
    "    dataset = tf.keras.utils.get_file(\n",
    "        fname=\"aclImdb.tar.gz\", \n",
    "        origin=\"http://ai.stanford.edu/~amaas/data/sentiment/aclImdb_v1.tar.gz\", \n",
    "        extract=True,\n",
    "    )\n",
    "    IMDB_DATADIR = os.path.join(os.path.dirname(dataset), \"aclImdb\")\n",
    "except ModuleNotFoundError :\n",
    "    if not os.path.exists(os.getcwd()+\"\\\\Data\\\\aclImdb\") :\n",
    "        import tensorflow as tf\n",
    "        dataset = tf.keras.utils.get_file(\n",
    "            fname=\"aclImdb.tar.gz\", \n",
    "            origin=\"http://ai.stanford.edu/~amaas/data/sentiment/aclImdb_v1.tar.gz\", \n",
    "            extract=True,\n",
    "        )\n",
    "\n",
    "        # set path to dataset\n",
    "        IMDB_DATADIR=os.getcwd()\n",
    "    else :\n",
    "\n",
    "        # set path to dataset\n",
    "        IMDB_DATADIR=os.getcwd()+\"\\\\Data\\\\aclImdb\""
   ]
  },
  {
   "cell_type": "markdown",
   "metadata": {
    "colab_type": "text",
    "id": "ugopbOABrmne"
   },
   "source": [
    "## STEP 1: Preprocessing\n",
    "####The texts_from_folder function will load the training and validation data from the specified folder and automatically preprocess it according to BERT's requirements. In doing so, the BERT model and vocabulary will be automatically downloaded."
   ]
  },
  {
   "cell_type": "code",
   "execution_count": 6,
   "metadata": {
    "colab": {
     "base_uri": "https://localhost:8080/",
     "height": 228
    },
    "colab_type": "code",
    "id": "jELdxonN9J8v",
    "outputId": "d32f97a7-e69f-465b-d1e5-bfef9ee204f5"
   },
   "outputs": [
    {
     "name": "stdout",
     "output_type": "stream",
     "text": [
      "downloading pretrained BERT model and vocabulary...\n",
      "[██████████████████████████████████████████████████]\n",
      "extracting pretrained BERT model and vocabulary...\n",
      "done.\n",
      "\n",
      "cleanup downloaded zip...\n",
      "done.\n",
      "\n",
      "preprocessing train...\n"
     ]
    },
    {
     "data": {
      "text/html": [
       "done."
      ],
      "text/plain": [
       "<IPython.core.display.HTML object>"
      ]
     },
     "metadata": {
      "tags": []
     },
     "output_type": "display_data"
    },
    {
     "name": "stdout",
     "output_type": "stream",
     "text": [
      "preprocessing test...\n"
     ]
    },
    {
     "data": {
      "text/html": [
       "done."
      ],
      "text/plain": [
       "<IPython.core.display.HTML object>"
      ]
     },
     "metadata": {
      "tags": []
     },
     "output_type": "display_data"
    }
   ],
   "source": [
    "(x_train, y_train), (x_test, y_test), preproc = text.texts_from_folder(IMDB_DATADIR, \n",
    "                                                                       maxlen=500, \n",
    "                                                                       preprocess_mode='bert',\n",
    "                                                                       train_test_names=['train', \n",
    "                                                                                         'test'],\n",
    "                                                                       classes=['pos', 'neg'])"
   ]
  },
  {
   "cell_type": "markdown",
   "metadata": {
    "colab_type": "text",
    "id": "a0SIaqHcslLZ"
   },
   "source": [
    "### STEP 2: Loading a pre trained BERT and wrapping it in a ktrain.learner object"
   ]
  },
  {
   "cell_type": "code",
   "execution_count": 7,
   "metadata": {
    "colab": {
     "base_uri": "https://localhost:8080/",
     "height": 606
    },
    "colab_type": "code",
    "id": "90ftQ6MgAJy4",
    "outputId": "a1c715b8-5d54-4405-c5e9-b7bcb042a131"
   },
   "outputs": [
    {
     "name": "stdout",
     "output_type": "stream",
     "text": [
      "Is Multi-Label? False\n",
      "maxlen is 500\n",
      "WARNING:tensorflow:From /usr/local/lib/python3.6/dist-packages/keras/backend/tensorflow_backend.py:541: The name tf.placeholder is deprecated. Please use tf.compat.v1.placeholder instead.\n",
      "\n",
      "WARNING:tensorflow:From /usr/local/lib/python3.6/dist-packages/keras/backend/tensorflow_backend.py:4432: The name tf.random_uniform is deprecated. Please use tf.random.uniform instead.\n",
      "\n",
      "WARNING:tensorflow:From /usr/local/lib/python3.6/dist-packages/keras/backend/tensorflow_backend.py:66: The name tf.get_default_graph is deprecated. Please use tf.compat.v1.get_default_graph instead.\n",
      "\n",
      "WARNING:tensorflow:From /usr/local/lib/python3.6/dist-packages/keras/backend/tensorflow_backend.py:148: The name tf.placeholder_with_default is deprecated. Please use tf.compat.v1.placeholder_with_default instead.\n",
      "\n",
      "WARNING:tensorflow:From /usr/local/lib/python3.6/dist-packages/keras/backend/tensorflow_backend.py:3733: calling dropout (from tensorflow.python.ops.nn_ops) with keep_prob is deprecated and will be removed in a future version.\n",
      "Instructions for updating:\n",
      "Please use `rate` instead of `keep_prob`. Rate should be set to `rate = 1 - keep_prob`.\n",
      "WARNING:tensorflow:From /usr/local/lib/python3.6/dist-packages/keras/backend/tensorflow_backend.py:4479: The name tf.truncated_normal is deprecated. Please use tf.random.truncated_normal instead.\n",
      "\n",
      "WARNING:tensorflow:From /usr/local/lib/python3.6/dist-packages/keras/backend/tensorflow_backend.py:190: The name tf.get_default_session is deprecated. Please use tf.compat.v1.get_default_session instead.\n",
      "\n",
      "WARNING:tensorflow:From /usr/local/lib/python3.6/dist-packages/keras/backend/tensorflow_backend.py:197: The name tf.ConfigProto is deprecated. Please use tf.compat.v1.ConfigProto instead.\n",
      "\n",
      "WARNING:tensorflow:From /usr/local/lib/python3.6/dist-packages/keras/backend/tensorflow_backend.py:203: The name tf.Session is deprecated. Please use tf.compat.v1.Session instead.\n",
      "\n",
      "WARNING:tensorflow:From /usr/local/lib/python3.6/dist-packages/keras/backend/tensorflow_backend.py:207: The name tf.global_variables is deprecated. Please use tf.compat.v1.global_variables instead.\n",
      "\n",
      "WARNING:tensorflow:From /usr/local/lib/python3.6/dist-packages/keras/backend/tensorflow_backend.py:216: The name tf.is_variable_initialized is deprecated. Please use tf.compat.v1.is_variable_initialized instead.\n",
      "\n",
      "WARNING:tensorflow:From /usr/local/lib/python3.6/dist-packages/keras/backend/tensorflow_backend.py:223: The name tf.variables_initializer is deprecated. Please use tf.compat.v1.variables_initializer instead.\n",
      "\n",
      "WARNING:tensorflow:From /usr/local/lib/python3.6/dist-packages/keras/optimizers.py:793: The name tf.train.Optimizer is deprecated. Please use tf.compat.v1.train.Optimizer instead.\n",
      "\n",
      "WARNING:tensorflow:From /usr/local/lib/python3.6/dist-packages/keras/backend/tensorflow_backend.py:3576: The name tf.log is deprecated. Please use tf.math.log instead.\n",
      "\n",
      "done.\n"
     ]
    }
   ],
   "source": [
    "model = text.text_classifier('bert', (x_train, y_train), preproc=preproc)\n",
    "learner = ktrain.get_learner(model,train_data=(x_train, y_train), val_data=(x_test, y_test), batch_size=6)"
   ]
  },
  {
   "cell_type": "markdown",
   "metadata": {
    "colab_type": "text",
    "id": "nN6zWQgys0c_"
   },
   "source": [
    "### STEP 3: Training and Tuning the model's parameters"
   ]
  },
  {
   "cell_type": "code",
   "execution_count": 8,
   "metadata": {
    "colab": {
     "base_uri": "https://localhost:8080/",
     "height": 392
    },
    "colab_type": "code",
    "id": "Fxdw88YjAfvF",
    "outputId": "663b6e29-8bd0-4fed-cbf6-c8cc361b5244"
   },
   "outputs": [
    {
     "name": "stdout",
     "output_type": "stream",
     "text": [
      "\n",
      "\n",
      "begin training using onecycle policy with max lr of 2e-05...\n",
      "WARNING:tensorflow:From /usr/local/lib/python3.6/dist-packages/tensorflow_core/python/ops/math_grad.py:1424: where (from tensorflow.python.ops.array_ops) is deprecated and will be removed in a future version.\n",
      "Instructions for updating:\n",
      "Use tf.where in 2.0, which has the same broadcast rule as np.where\n",
      "WARNING:tensorflow:From /usr/local/lib/python3.6/dist-packages/keras/backend/tensorflow_backend.py:1033: The name tf.assign_add is deprecated. Please use tf.compat.v1.assign_add instead.\n",
      "\n",
      "WARNING:tensorflow:From /usr/local/lib/python3.6/dist-packages/keras/backend/tensorflow_backend.py:1020: The name tf.assign is deprecated. Please use tf.compat.v1.assign instead.\n",
      "\n",
      "Train on 25000 samples, validate on 25000 samples\n",
      "Epoch 1/4\n",
      "25000/25000 [==============================] - 4557s 182ms/step - loss: 0.2551 - acc: 0.8944 - val_loss: 0.1694 - val_acc: 0.9342\n",
      "Epoch 2/4\n",
      "25000/25000 [==============================] - 4545s 182ms/step - loss: 0.1607 - acc: 0.9419 - val_loss: 0.1692 - val_acc: 0.9362\n",
      "Epoch 3/4\n",
      "25000/25000 [==============================] - 4545s 182ms/step - loss: 0.0875 - acc: 0.9706 - val_loss: 0.1860 - val_acc: 0.9378\n",
      "Epoch 4/4\n",
      "25000/25000 [==============================] - 4543s 182ms/step - loss: 0.0242 - acc: 0.9932 - val_loss: 0.2394 - val_acc: 0.9385\n"
     ]
    },
    {
     "data": {
      "text/plain": [
       "<keras.callbacks.History at 0x7f2795e585f8>"
      ]
     },
     "execution_count": 8,
     "metadata": {
      "tags": []
     },
     "output_type": "execute_result"
    }
   ],
   "source": [
    "learner.fit_onecycle(2e-5, 4)"
   ]
  }
 ],
 "metadata": {
  "accelerator": "GPU",
  "colab": {
   "collapsed_sections": [],
   "name": "BERT_Sentiment_Classification_IMDB.ipynb",
   "provenance": []
  },
  "kernelspec": {
   "display_name": "Python 3",
   "language": "python",
   "name": "python3"
  },
  "language_info": {
   "codemirror_mode": {
    "name": "ipython",
    "version": 3
   },
   "file_extension": ".py",
   "mimetype": "text/x-python",
   "name": "python",
   "nbconvert_exporter": "python",
   "pygments_lexer": "ipython3",
   "version": "3.6.13"
  }
 },
 "nbformat": 4,
 "nbformat_minor": 1
}
